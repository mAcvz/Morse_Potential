{
 "cells": [
  {
   "cell_type": "markdown",
   "metadata": {},
   "source": [
    "# Morse Potential"
   ]
  },
  {
   "cell_type": "markdown",
   "metadata": {},
   "source": [
    "Nel seguente notebook automatiziamo il processo di computazione e graficazione "
   ]
  },
  {
   "cell_type": "code",
   "execution_count": null,
   "metadata": {},
   "outputs": [],
   "source": [
    "# %load graphics.py\n",
    "import matplotlib.pyplot as plt\n",
    "import matplotlib as mpl\n",
    "import numpy as np"
   ]
  },
  {
   "cell_type": "code",
   "execution_count": 4,
   "metadata": {},
   "outputs": [
    {
     "name": "stdout",
     "output_type": "stream",
     "text": [
      "Overwriting Input.txt\n"
     ]
    }
   ],
   "source": [
    "%%writefile Input.txt\n",
    "punti   range   numero_autoval  alpha \n",
    "1500,    100,       5,            0.6\n",
    " \n"
   ]
  },
  {
   "cell_type": "code",
   "execution_count": 5,
   "metadata": {},
   "outputs": [
    {
     "name": "stdout",
     "output_type": "stream",
     "text": [
      " \n",
      "PROGRAMMA:  \n",
      "\n",
      " POTENZIALE DI MORSE: CALCOLO AUTO VALORI & AUTO FUNZIONI \n",
      "\n",
      " Lettura parametri di input da file: Input.txt                                         \n",
      "\n",
      " N = 1500  L =100.0  M = 5  alpha =0.600\n",
      "   \n",
      "\n",
      " WARNING: Rapporto N/L < 20 - Il numero di punti potrebbe non essere sufficiente\n",
      " Calcolo ...\n",
      " CALCOLO A.VAL & A.VET COMPLETATO\n",
      "\n",
      " Anteprima autovalori:\n",
      "\n",
      "  0   0.2549684508\n",
      "  1   0.4949884736\n",
      "  2   0.5007397476\n",
      "  3   0.5028847708\n",
      "  4   0.5063180878\n",
      " \n",
      "AUTOVALORI STAMPATI CORRETAMENTE SUL FILE: autoval.txt\n",
      " \n",
      "AUTOVETTORI STAMPATI CORRETAMENTE SUI FILE: dati_autovet_n=i.txt   i = 0,1 ... 4              \n",
      "\n"
     ]
    }
   ],
   "source": [
    "%%bash\n",
    "gfortran Dichiarazione.f95 Control.f95 Scrittura_File.f95 Diagonalizzazione.f95 -llapack -lblas \n",
    "\n",
    "./a.out"
   ]
  },
  {
   "cell_type": "code",
   "execution_count": 9,
   "metadata": {},
   "outputs": [
    {
     "ename": "ModuleNotFoundError",
     "evalue": "No module named 'matplotlib'",
     "output_type": "error",
     "traceback": [
      "\u001b[0;31m---------------------------------------------------------------------------\u001b[0m",
      "\u001b[0;31mModuleNotFoundError\u001b[0m                       Traceback (most recent call last)",
      "\u001b[0;32m<ipython-input-9-4dff85b28f55>\u001b[0m in \u001b[0;36m<module>\u001b[0;34m\u001b[0m\n\u001b[1;32m      1\u001b[0m \u001b[0;31m# %load graphics.py\u001b[0m\u001b[0;34m\u001b[0m\u001b[0;34m\u001b[0m\u001b[0;34m\u001b[0m\u001b[0m\n\u001b[0;32m----> 2\u001b[0;31m \u001b[0;32mimport\u001b[0m \u001b[0mmatplotlib\u001b[0m\u001b[0;34m.\u001b[0m\u001b[0mpyplot\u001b[0m \u001b[0;32mas\u001b[0m \u001b[0mplt\u001b[0m\u001b[0;34m\u001b[0m\u001b[0;34m\u001b[0m\u001b[0m\n\u001b[0m\u001b[1;32m      3\u001b[0m \u001b[0;32mimport\u001b[0m \u001b[0mmatplotlib\u001b[0m \u001b[0;32mas\u001b[0m \u001b[0mmpl\u001b[0m\u001b[0;34m\u001b[0m\u001b[0;34m\u001b[0m\u001b[0m\n\u001b[1;32m      4\u001b[0m \u001b[0;32mimport\u001b[0m \u001b[0mnumpy\u001b[0m \u001b[0;32mas\u001b[0m \u001b[0mnp\u001b[0m\u001b[0;34m\u001b[0m\u001b[0;34m\u001b[0m\u001b[0m\n\u001b[1;32m      5\u001b[0m \u001b[0;31m# permette di leggere tutte le colonne di una riga\u001b[0m\u001b[0;34m\u001b[0m\u001b[0;34m\u001b[0m\u001b[0;34m\u001b[0m\u001b[0m\n",
      "\u001b[0;31mModuleNotFoundError\u001b[0m: No module named 'matplotlib'"
     ]
    }
   ],
   "source": [
    "# permette di leggere tutte le colonne di una riga\n",
    "# \n",
    "X = []\n",
    "for line in open('Punti_valutazione.txt', 'r'):\n",
    "  values = [float(s) for s in line.split()]\n",
    "  X.append(values[0])\n",
    "# first\n",
    "Y_1 = []\n",
    "for line in open('dati_autovet_n=0.txt', 'r'):\n",
    "  values = [float(s) for s in line.split()]\n",
    "  Y_1.append(values[0])\n",
    "# second\n",
    "Y_2 = []\n",
    "for line in open('dati_autovet_n=1.txt', 'r'):\n",
    "  values = [float(s) for s in line.split()]\n",
    "  Y_2.append(values[0])\n",
    "# third\n",
    "Y_3 = []\n",
    "for line in open('dati_autovet_n=2.txt', 'r'):\n",
    "  values = [float(s) for s in line.split()]\n",
    "  Y_3.append(values[0])\n",
    "# fourth\n",
    "Y_4 = []\n",
    "for line in open('dati_autovet_n=3.txt', 'r'):\n",
    "  values = [float(s) for s in line.split()]\n",
    "  Y_4.append(values[0])\n",
    "\n",
    "fig,axes = plt.subplots(2,2)\n",
    "axes[0,0].plot(X,Y_1, 'r')\n",
    "axes[0,0].set_xlabel('x')\n",
    "axes[0,0].set_ylabel('y')\n",
    "axes[0,0].set_title('autovet_1')\n",
    "\n",
    "axes[0,1].plot(X,Y_2, 'r')\n",
    "axes[0,1].set_xlabel('x')\n",
    "axes[0,1].set_ylabel('y')\n",
    "axes[0,1].set_title('autovet_2')\n",
    "\n",
    "axes[1,0].plot(X,Y_3, 'r')\n",
    "axes[1,0].set_xlabel('x')\n",
    "axes[1,0].set_ylabel('y')\n",
    "axes[1,0].set_title('autovet_3')\n",
    "\n",
    "axes[1,1].plot(X,Y_4, 'r')\n",
    "axes[1,1].set_xlabel('x')\n",
    "axes[1,1].set_ylabel('y')\n",
    "axes[1,1].set_title('autovet_4')\n",
    "\n",
    "plt.show()\n",
    "\n",
    "\n",
    "\n"
   ]
  },
  {
   "cell_type": "code",
   "execution_count": null,
   "metadata": {},
   "outputs": [],
   "source": []
  }
 ],
 "metadata": {
  "kernelspec": {
   "display_name": "Python 3.8.6 64-bit",
   "language": "python",
   "name": "python386jvsc74a57bd031f2aee4e71d21fbe5cf8b01ff0e069b9275f58929596ceb00d14d90e3e16cd6"
  },
  "language_info": {
   "codemirror_mode": {
    "name": "ipython",
    "version": 3
   },
   "file_extension": ".py",
   "mimetype": "text/x-python",
   "name": "python",
   "nbconvert_exporter": "python",
   "pygments_lexer": "ipython3",
   "version": "3.8.6"
  }
 },
 "nbformat": 4,
 "nbformat_minor": 4
}
